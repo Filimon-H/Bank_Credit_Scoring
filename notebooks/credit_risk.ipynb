{
 "cells": [
  {
   "cell_type": "markdown",
   "metadata": {},
   "source": [
    "Step 1: Load and Prepare the Data\n",
    "What we did:\n",
    "We loaded the raw transaction data and made sure the TransactionStartTime column was in proper date format.\n",
    "\n",
    "Why:\n",
    "We need this date column to calculate Recency — how recently a customer made a purchase."
   ]
  },
  {
   "cell_type": "code",
   "execution_count": 1,
   "metadata": {},
   "outputs": [],
   "source": [
    "import pandas as pd\n",
    "from datetime import timedelta\n",
    "\n",
    "def load_and_prepare_data(filepath: str) -> pd.DataFrame:\n",
    "    df = pd.read_csv(filepath)\n",
    "    df['TransactionStartTime'] = pd.to_datetime(df['TransactionStartTime'])\n",
    "    return df\n",
    "\n",
    "def calculate_rfm(df: pd.DataFrame) -> pd.DataFrame:\n",
    "    snapshot_date = df['TransactionStartTime'].max() + timedelta(days=1)\n",
    "\n",
    "    rfm = df.groupby('CustomerId').agg({\n",
    "        'TransactionStartTime': lambda x: (snapshot_date - x.max()).days,\n",
    "        'TransactionId': 'count',\n",
    "        'Amount': 'sum'\n",
    "    }).reset_index()\n",
    "\n",
    "    rfm.columns = ['CustomerId', 'Recency', 'Frequency', 'Monetary']\n",
    "    return rfm\n"
   ]
  },
  {
   "cell_type": "markdown",
   "metadata": {},
   "source": [
    "Step 2: Calculate RFM Metrics\n",
    "What we did:\n",
    "For each customer, we calculated:\n",
    "\n",
    "Recency: How many days ago their last transaction was.\n",
    "\n",
    "Frequency: How many total transactions they’ve made.\n",
    "\n",
    "Monetary: Total money spent (sum of transaction amounts).\n",
    "\n",
    "Why:\n",
    "These 3 features are commonly used in marketing and credit scoring to understand customer engagement and financial behavior."
   ]
  },
  {
   "cell_type": "code",
   "execution_count": 2,
   "metadata": {},
   "outputs": [],
   "source": [
    "from sklearn.preprocessing import StandardScaler\n",
    "from sklearn.cluster import KMeans\n",
    "\n",
    "def preprocess_and_cluster_rfm(rfm: pd.DataFrame, n_clusters: int = 3) -> tuple[pd.DataFrame, KMeans]:\n",
    "    # Drop rows with missing values\n",
    "    rfm_clean = rfm.dropna(subset=['Recency', 'Frequency', 'Monetary']).copy()\n",
    "\n",
    "    # Scale\n",
    "    scaler = StandardScaler()\n",
    "    rfm_scaled = scaler.fit_transform(rfm_clean[['Recency', 'Frequency', 'Monetary']])\n",
    "\n",
    "    # K-Means clustering\n",
    "    kmeans = KMeans(n_clusters=n_clusters, random_state=42, n_init=10)\n",
    "    rfm_clean['Cluster'] = kmeans.fit_predict(rfm_scaled)\n",
    "\n",
    "    return rfm_clean, kmeans\n"
   ]
  },
  {
   "cell_type": "markdown",
   "metadata": {},
   "source": [
    "Step 3: Preprocess the RFM data & Run Clustering\n",
    "What we did:\n",
    "We scaled (standardized) the RFM values so they’re on the same scale (important for clustering), then used K-Means to divide customers into 3 groups based on their RFM profiles.\n",
    "\n",
    "Why:\n",
    "We want to discover hidden customer segments. Some clusters will be more active (low risk), others more inactive (potentially high risk)."
   ]
  },
  {
   "cell_type": "code",
   "execution_count": 4,
   "metadata": {},
   "outputs": [],
   "source": [
    "import matplotlib.pyplot as plt\n",
    "import seaborn as sns\n",
    "\n",
    "def analyze_and_label_clusters(rfm_clustered: pd.DataFrame, kmeans: KMeans) -> pd.DataFrame:\n",
    "    # Cluster center interpretation\n",
    "    cluster_centers = pd.DataFrame(\n",
    "        kmeans.cluster_centers_,\n",
    "        columns=['Recency', 'Frequency', 'Monetary']\n",
    "    )\n",
    "\n",
    "    high_risk_cluster = cluster_centers.sort_values(\n",
    "        by=['Recency', 'Frequency', 'Monetary'],\n",
    "        ascending=[False, True, True]  # high Recency, low Frequency/Monetary\n",
    "    ).index[0]\n",
    "\n",
    "    # Assign binary label\n",
    "    rfm_clustered['is_high_risk'] = (rfm_clustered['Cluster'] == high_risk_cluster).astype(int)\n",
    "\n",
    "   # return rfm_clustered[['CustomerId', 'is_high_risk']]\n",
    "    return pd.DataFrame(rfm_clustered[['CustomerId', 'is_high_risk']])\n"
   ]
  },
  {
   "cell_type": "markdown",
   "metadata": {},
   "source": [
    "Step 4: Identify the High-Risk Group\n",
    "What we did:\n",
    "We examined the 3 clusters and picked the one where customers:\n",
    "\n",
    "Have high Recency (long time since last purchase)\n",
    "\n",
    "Have low Frequency (rarely purchase)\n",
    "\n",
    "Have low Monetary (spend very little)\n",
    "\n",
    "This group was labeled as the high-risk cluster.\n",
    "\n",
    "Why:\n",
    "These customers are less engaged, may be financially inactive, and are thus more likely to default — a smart proxy for credit risk."
   ]
  },
  {
   "cell_type": "code",
   "execution_count": 5,
   "metadata": {},
   "outputs": [],
   "source": [
    "def merge_target_with_raw(raw_df: pd.DataFrame, risk_df: pd.DataFrame) -> pd.DataFrame:\n",
    "    merged = raw_df.merge(risk_df, on='CustomerId', how='left')\n",
    "    merged['is_high_risk'] = merged['is_high_risk'].fillna(0).astype(int)\n",
    "    return merged\n"
   ]
  },
  {
   "cell_type": "markdown",
   "metadata": {},
   "source": [
    "Step 5: Create the is_high_risk Column\n",
    "What we did:\n",
    "We created a new column:\n",
    "\n",
    "1 if the customer is in the high-risk cluster\n",
    "\n",
    "0 if they’re in a low/medium-risk cluster\n",
    "\n",
    "Why:\n",
    "This gives us a binary target label we can now use to train a credit scoring model."
   ]
  },
  {
   "cell_type": "code",
   "execution_count": 6,
   "metadata": {},
   "outputs": [
    {
     "name": "stdout",
     "output_type": "stream",
     "text": [
      "✅ Saved: raw_plus_risk.csv with is_high_risk column.\n"
     ]
    }
   ],
   "source": [
    "\n",
    "raw_df = load_and_prepare_data('../data/raw/data.csv') \n",
    "\n",
    "\n",
    "# Step 1: RFM\n",
    "rfm = calculate_rfm(raw_df)\n",
    "\n",
    "# Step 2: Clustering\n",
    "rfm_clustered, kmeans_model = preprocess_and_cluster_rfm(rfm)\n",
    "\n",
    "# Step 3: Labeling\n",
    "risk_df = analyze_and_label_clusters(rfm_clustered, kmeans_model)\n",
    "\n",
    "# Step 4: Merge\n",
    "final_raw_with_risk = merge_target_with_raw(raw_df, risk_df)\n",
    "\n",
    "# Step 5: Save for Task 3 re-pipeline\n",
    "final_raw_with_risk.to_csv(\"../data/processed/raw_plus_risk.csv\", index=False)\n",
    "print(\"✅ Saved: raw_plus_risk.csv with is_high_risk column.\")\n"
   ]
  },
  {
   "cell_type": "markdown",
   "metadata": {},
   "source": [
    "We used RFM analysis and clustering to identify disengaged (risky) customers and created a new column is_high_risk to serve as the target variable for building your credit scoring model."
   ]
  }
 ],
 "metadata": {
  "kernelspec": {
   "display_name": ".venv",
   "language": "python",
   "name": "python3"
  },
  "language_info": {
   "codemirror_mode": {
    "name": "ipython",
    "version": 3
   },
   "file_extension": ".py",
   "mimetype": "text/x-python",
   "name": "python",
   "nbconvert_exporter": "python",
   "pygments_lexer": "ipython3",
   "version": "3.13.3"
  }
 },
 "nbformat": 4,
 "nbformat_minor": 2
}
