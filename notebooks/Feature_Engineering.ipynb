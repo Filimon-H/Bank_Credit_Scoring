{
 "cells": [
  {
   "cell_type": "code",
   "execution_count": 1,
   "metadata": {},
   "outputs": [],
   "source": [
    "import sys\n",
    "sys.path.append('../src')"
   ]
  },
  {
   "cell_type": "code",
   "execution_count": 2,
   "metadata": {},
   "outputs": [],
   "source": [
    "# 1. Load necessary packages\n",
    "import pandas as pd\n",
    "from feature_engineering import get_feature_engineering_pipeline"
   ]
  },
  {
   "cell_type": "code",
   "execution_count": 3,
   "metadata": {},
   "outputs": [],
   "source": [
    "# 2. Load your raw data\n",
    "df = pd.read_csv('../data/raw/data.csv')  # Adjust path if needed"
   ]
  },
  {
   "cell_type": "code",
   "execution_count": 4,
   "metadata": {},
   "outputs": [],
   "source": [
    "# 3. Define config for the pipeline\n",
    "config = {\n",
    "    'datetime_col': 'TransactionStartTime',\n",
    "    'customer_id_col': 'CustomerId',\n",
    "    'amount_col': 'Amount',\n",
    "    'cat_cols': ['ProductCategory', 'ProviderId', 'ChannelId'],\n",
    "    'num_cols': ['Amount', 'Value', 'PricingStrategy'],\n",
    "    'target_col': 'FraudResult',\n",
    "    'imputation_strategy': 'mean',         # or 'median', etc.\n",
    "    'scaling_method': 'standard'           # or 'minmax'\n",
    "}\n"
   ]
  },
  {
   "cell_type": "code",
   "execution_count": 5,
   "metadata": {},
   "outputs": [],
   "source": [
    "# 4. Initialize the pipeline\n",
    "pipeline = get_feature_engineering_pipeline(config)"
   ]
  },
  {
   "cell_type": "code",
   "execution_count": 6,
   "metadata": {},
   "outputs": [],
   "source": [
    "# 5. Fit and transform the data\n",
    "# Use `FraudResult` as target if available\n",
    "X_transformed = pipeline.fit_transform(df)"
   ]
  },
  {
   "cell_type": "code",
   "execution_count": 20,
   "metadata": {},
   "outputs": [
    {
     "ename": "ImportError",
     "evalue": "cannot import name 'get_pipeline_feature_names' from 'feature_engineering' (c:\\Users\\User\\Desktop\\Week_5\\Bank_Credit_Scoring\\notebooks\\../src\\feature_engineering.py)",
     "output_type": "error",
     "traceback": [
      "\u001b[31m---------------------------------------------------------------------------\u001b[39m",
      "\u001b[31mImportError\u001b[39m                               Traceback (most recent call last)",
      "\u001b[36mCell\u001b[39m\u001b[36m \u001b[39m\u001b[32mIn[20]\u001b[39m\u001b[32m, line 1\u001b[39m\n\u001b[32m----> \u001b[39m\u001b[32m1\u001b[39m \u001b[38;5;28;01mfrom\u001b[39;00m\u001b[38;5;250m \u001b[39m\u001b[34;01mfeature_engineering\u001b[39;00m\u001b[38;5;250m \u001b[39m\u001b[38;5;28;01mimport\u001b[39;00m get_pipeline_feature_names\n\u001b[32m      3\u001b[39m X_array = pipeline.transform(df)\n\u001b[32m      4\u001b[39m column_names = get_pipeline_feature_names(pipeline, config)\n",
      "\u001b[31mImportError\u001b[39m: cannot import name 'get_pipeline_feature_names' from 'feature_engineering' (c:\\Users\\User\\Desktop\\Week_5\\Bank_Credit_Scoring\\notebooks\\../src\\feature_engineering.py)"
     ]
    }
   ],
   "source": [
    "from feature_engineering import get_pipeline_feature_names\n",
    "\n",
    "X_array = pipeline.transform(df)\n",
    "column_names = get_pipeline_feature_names(pipeline, config)\n",
    "\n",
    "# Create DataFrame with proper headers\n",
    "X_df = pd.DataFrame(X_array, columns=column_names)\n",
    "\n",
    "# (Optional) Attach original ID\n",
    "X_df['CustomerId'] = df['CustomerId'].values\n",
    "\n",
    "# Save to CSV\n",
    "X_df.to_csv(\"data/processed/X_transformed_named.csv\", index=False)\n"
   ]
  },
  {
   "cell_type": "code",
   "execution_count": null,
   "metadata": {},
   "outputs": [],
   "source": []
  },
  {
   "cell_type": "code",
   "execution_count": null,
   "metadata": {},
   "outputs": [],
   "source": []
  },
  {
   "cell_type": "code",
   "execution_count": 7,
   "metadata": {},
   "outputs": [],
   "source": [
    "feature_names = pipeline.named_steps['preprocessor'].get_feature_names_out()\n",
    "X_transformed_df = pd.DataFrame(X_transformed, columns=feature_names)"
   ]
  },
  {
   "cell_type": "code",
   "execution_count": 12,
   "metadata": {},
   "outputs": [
    {
     "name": "stdout",
     "output_type": "stream",
     "text": [
      "(95662, 47)\n"
     ]
    },
    {
     "data": {
      "text/html": [
       "<div>\n",
       "<style scoped>\n",
       "    .dataframe tbody tr th:only-of-type {\n",
       "        vertical-align: middle;\n",
       "    }\n",
       "\n",
       "    .dataframe tbody tr th {\n",
       "        vertical-align: top;\n",
       "    }\n",
       "\n",
       "    .dataframe thead th {\n",
       "        text-align: right;\n",
       "    }\n",
       "</style>\n",
       "<table border=\"1\" class=\"dataframe\">\n",
       "  <thead>\n",
       "    <tr style=\"text-align: right;\">\n",
       "      <th></th>\n",
       "      <th>0</th>\n",
       "      <th>1</th>\n",
       "      <th>2</th>\n",
       "      <th>3</th>\n",
       "      <th>4</th>\n",
       "      <th>5</th>\n",
       "      <th>6</th>\n",
       "      <th>7</th>\n",
       "      <th>8</th>\n",
       "      <th>9</th>\n",
       "      <th>...</th>\n",
       "      <th>37</th>\n",
       "      <th>38</th>\n",
       "      <th>39</th>\n",
       "      <th>40</th>\n",
       "      <th>41</th>\n",
       "      <th>42</th>\n",
       "      <th>43</th>\n",
       "      <th>44</th>\n",
       "      <th>45</th>\n",
       "      <th>46</th>\n",
       "    </tr>\n",
       "  </thead>\n",
       "  <tbody>\n",
       "    <tr>\n",
       "      <th>0</th>\n",
       "      <td>-0.046371</td>\n",
       "      <td>-0.072291</td>\n",
       "      <td>-0.349252</td>\n",
       "      <td>1.0</td>\n",
       "      <td>0.0</td>\n",
       "      <td>0.0</td>\n",
       "      <td>0.0</td>\n",
       "      <td>0.0</td>\n",
       "      <td>0.0</td>\n",
       "      <td>0.0</td>\n",
       "      <td>...</td>\n",
       "      <td>0</td>\n",
       "      <td>109921.75</td>\n",
       "      <td>923.712185</td>\n",
       "      <td>119</td>\n",
       "      <td>3042.294251</td>\n",
       "      <td>-5000.0</td>\n",
       "      <td>20000.0</td>\n",
       "      <td>-1.620379</td>\n",
       "      <td>-3.137005</td>\n",
       "      <td>0.472374</td>\n",
       "    </tr>\n",
       "    <tr>\n",
       "      <th>1</th>\n",
       "      <td>-0.054643</td>\n",
       "      <td>-0.080251</td>\n",
       "      <td>-0.349252</td>\n",
       "      <td>0.0</td>\n",
       "      <td>0.0</td>\n",
       "      <td>1.0</td>\n",
       "      <td>0.0</td>\n",
       "      <td>0.0</td>\n",
       "      <td>0.0</td>\n",
       "      <td>0.0</td>\n",
       "      <td>...</td>\n",
       "      <td>0</td>\n",
       "      <td>109921.75</td>\n",
       "      <td>923.712185</td>\n",
       "      <td>119</td>\n",
       "      <td>3042.294251</td>\n",
       "      <td>-5000.0</td>\n",
       "      <td>20000.0</td>\n",
       "      <td>0.565446</td>\n",
       "      <td>-2.736867</td>\n",
       "      <td>-2.709038</td>\n",
       "    </tr>\n",
       "    <tr>\n",
       "      <th>2</th>\n",
       "      <td>-0.050426</td>\n",
       "      <td>-0.076352</td>\n",
       "      <td>-0.349252</td>\n",
       "      <td>1.0</td>\n",
       "      <td>0.0</td>\n",
       "      <td>0.0</td>\n",
       "      <td>0.0</td>\n",
       "      <td>0.0</td>\n",
       "      <td>0.0</td>\n",
       "      <td>0.0</td>\n",
       "      <td>...</td>\n",
       "      <td>0</td>\n",
       "      <td>1000.0</td>\n",
       "      <td>500.0</td>\n",
       "      <td>2</td>\n",
       "      <td>0.0</td>\n",
       "      <td>500.0</td>\n",
       "      <td>500.0</td>\n",
       "      <td>-1.620379</td>\n",
       "      <td>-3.137005</td>\n",
       "      <td>0.472374</td>\n",
       "    </tr>\n",
       "    <tr>\n",
       "      <th>3</th>\n",
       "      <td>0.107717</td>\n",
       "      <td>0.096648</td>\n",
       "      <td>-0.349252</td>\n",
       "      <td>0.0</td>\n",
       "      <td>0.0</td>\n",
       "      <td>0.0</td>\n",
       "      <td>0.0</td>\n",
       "      <td>0.0</td>\n",
       "      <td>0.0</td>\n",
       "      <td>0.0</td>\n",
       "      <td>...</td>\n",
       "      <td>0</td>\n",
       "      <td>228727.2</td>\n",
       "      <td>6019.136842</td>\n",
       "      <td>38</td>\n",
       "      <td>17169.24161</td>\n",
       "      <td>-10000.0</td>\n",
       "      <td>100000.0</td>\n",
       "      <td>1.134962</td>\n",
       "      <td>1.618899</td>\n",
       "      <td>0.472374</td>\n",
       "    </tr>\n",
       "    <tr>\n",
       "      <th>4</th>\n",
       "      <td>-0.059704</td>\n",
       "      <td>-0.075183</td>\n",
       "      <td>-0.349252</td>\n",
       "      <td>0.0</td>\n",
       "      <td>0.0</td>\n",
       "      <td>1.0</td>\n",
       "      <td>0.0</td>\n",
       "      <td>0.0</td>\n",
       "      <td>0.0</td>\n",
       "      <td>0.0</td>\n",
       "      <td>...</td>\n",
       "      <td>0</td>\n",
       "      <td>228727.2</td>\n",
       "      <td>6019.136842</td>\n",
       "      <td>38</td>\n",
       "      <td>17169.24161</td>\n",
       "      <td>-10000.0</td>\n",
       "      <td>100000.0</td>\n",
       "      <td>0.565446</td>\n",
       "      <td>-2.736867</td>\n",
       "      <td>-2.709038</td>\n",
       "    </tr>\n",
       "  </tbody>\n",
       "</table>\n",
       "<p>5 rows × 47 columns</p>\n",
       "</div>"
      ],
      "text/plain": [
       "         0         1         2    3    4    5    6    7    8    9   ... 37  \\\n",
       "0 -0.046371 -0.072291 -0.349252  1.0  0.0  0.0  0.0  0.0  0.0  0.0  ...  0   \n",
       "1 -0.054643 -0.080251 -0.349252  0.0  0.0  1.0  0.0  0.0  0.0  0.0  ...  0   \n",
       "2 -0.050426 -0.076352 -0.349252  1.0  0.0  0.0  0.0  0.0  0.0  0.0  ...  0   \n",
       "3  0.107717  0.096648 -0.349252  0.0  0.0  0.0  0.0  0.0  0.0  0.0  ...  0   \n",
       "4 -0.059704 -0.075183 -0.349252  0.0  0.0  1.0  0.0  0.0  0.0  0.0  ...  0   \n",
       "\n",
       "          38           39   40           41       42        43        44  \\\n",
       "0  109921.75   923.712185  119  3042.294251  -5000.0   20000.0 -1.620379   \n",
       "1  109921.75   923.712185  119  3042.294251  -5000.0   20000.0  0.565446   \n",
       "2     1000.0        500.0    2          0.0    500.0     500.0 -1.620379   \n",
       "3   228727.2  6019.136842   38  17169.24161 -10000.0  100000.0  1.134962   \n",
       "4   228727.2  6019.136842   38  17169.24161 -10000.0  100000.0  0.565446   \n",
       "\n",
       "         45        46  \n",
       "0 -3.137005  0.472374  \n",
       "1 -2.736867 -2.709038  \n",
       "2 -3.137005  0.472374  \n",
       "3  1.618899  0.472374  \n",
       "4 -2.736867 -2.709038  \n",
       "\n",
       "[5 rows x 47 columns]"
      ]
     },
     "execution_count": 12,
     "metadata": {},
     "output_type": "execute_result"
    }
   ],
   "source": [
    "# 6. Inspect the transformed output\n",
    "print(X_transformed_df.shape)\n",
    "X_transformed_df = pd.DataFrame(X_transformed_df)\n",
    "X_transformed_df.head()"
   ]
  },
  {
   "cell_type": "code",
   "execution_count": 9,
   "metadata": {},
   "outputs": [],
   "source": [
    "from feature_engineering import save_pipeline, load_pipeline\n",
    "\n",
    "# Save\n",
    "save_pipeline(pipeline, '../data/processed/feature_pipeline.pkl')\n",
    "\n",
    "\n",
    "# Load later\n",
    "loaded_pipeline = load_pipeline('../data/processed/feature_pipeline.pkl')\n"
   ]
  },
  {
   "cell_type": "code",
   "execution_count": 14,
   "metadata": {},
   "outputs": [
    {
     "name": "stdout",
     "output_type": "stream",
     "text": [
      "✅ Transformed features saved to: ../data/processed/transformed_features_2.csv\n",
      "Shape: (95662, 47)\n"
     ]
    }
   ],
   "source": [
    "X_transformed_df.to_csv('../data/processed/transformed_features.csv', index=False)\n",
    "print(\"✅ Transformed features saved to: ../data/processed/transformed_features_2.csv\")\n",
    "print(f\"Shape: {X_transformed_df.shape}\")\n"
   ]
  },
  {
   "cell_type": "code",
   "execution_count": 17,
   "metadata": {},
   "outputs": [
    {
     "name": "stdout",
     "output_type": "stream",
     "text": [
      "{'feature_extractor': FeatureExtractor(datetime_col='TransactionStartTime'), 'aggregator': Aggregator(amount_col='Amount', customer_id_col='CustomerId'), 'woe_encoder': WoeTransformer(cat_cols=['ProductCategory', 'ProviderId', 'ChannelId'],\n",
      "               target_col='FraudResult'), 'preprocessor': ColumnTransformer(remainder='passthrough',\n",
      "                  transformers=[('num',\n",
      "                                 Pipeline(steps=[('imputer', SimpleImputer()),\n",
      "                                                 ('scaler', StandardScaler())]),\n",
      "                                 ['Amount', 'Value', 'PricingStrategy']),\n",
      "                                ('cat',\n",
      "                                 Pipeline(steps=[('imputer',\n",
      "                                                  SimpleImputer(strategy='most_frequent')),\n",
      "                                                 ('onehot',\n",
      "                                                  OneHotEncoder(handle_unknown='ignore'))]),\n",
      "                                 ['ProductCategory', 'ProviderId',\n",
      "                                  'ChannelId'])])}\n"
     ]
    }
   ],
   "source": [
    "print(pipeline.named_steps)"
   ]
  }
 ],
 "metadata": {
  "kernelspec": {
   "display_name": ".venv",
   "language": "python",
   "name": "python3"
  },
  "language_info": {
   "codemirror_mode": {
    "name": "ipython",
    "version": 3
   },
   "file_extension": ".py",
   "mimetype": "text/x-python",
   "name": "python",
   "nbconvert_exporter": "python",
   "pygments_lexer": "ipython3",
   "version": "3.13.3"
  }
 },
 "nbformat": 4,
 "nbformat_minor": 2
}
