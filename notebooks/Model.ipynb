{
 "cells": [
  {
   "cell_type": "code",
   "execution_count": 1,
   "metadata": {},
   "outputs": [],
   "source": [
    "import sys\n",
    "sys.path.append('../src')"
   ]
  },
  {
   "cell_type": "code",
   "execution_count": 8,
   "metadata": {},
   "outputs": [
    {
     "name": "stdout",
     "output_type": "stream",
     "text": [
      "Index(['TransactionId', 'BatchId', 'AccountId', 'SubscriptionId', 'CustomerId',\n",
      "       'CurrencyCode', 'ProductId', 'TransactionStartTime'],\n",
      "      dtype='object')\n"
     ]
    }
   ],
   "source": [
    "print(X_train.select_dtypes(include='object').columns)\n"
   ]
  },
  {
   "cell_type": "code",
   "execution_count": 2,
   "metadata": {},
   "outputs": [],
   "source": [
    "import pandas as pd\n",
    "from sklearn.model_selection import train_test_split\n",
    "\n",
    "# Load processed dataset\n",
    "df = pd.read_csv(\"../data/processed/X_transformed_named.csv\")\n",
    "\n",
    "# Drop unwanted ID/date columns\n",
    "drop_cols = ['TransactionId', 'BatchId', 'AccountId', 'SubscriptionId', 'CustomerId', 'CurrencyCode', 'ProductId', 'TransactionStartTime']\n",
    "df = df.drop(columns=[col for col in drop_cols if col in df.columns])\n",
    "\n",
    "# Target\n",
    "y = df.pop(\"is_high_risk\")\n",
    "X = df\n",
    "\n",
    "# Split\n",
    "X_train, X_test, y_train, y_test = train_test_split(X, y, test_size=0.2, random_state=42, stratify=y)\n"
   ]
  },
  {
   "cell_type": "code",
   "execution_count": 3,
   "metadata": {},
   "outputs": [
    {
     "name": "stdout",
     "output_type": "stream",
     "text": [
      "🔎 Logistic Regression: {'Accuracy': 0.9053990487639157, 'Precision': 0.7041666666666667, 'Recall': 0.3069936421435059, 'F1': 0.4275774826059456, 'ROC_AUC': 0.911310484918994}\n"
     ]
    }
   ],
   "source": [
    "from sklearn.linear_model import LogisticRegression\n",
    "from sklearn.ensemble import RandomForestClassifier\n",
    "from sklearn.model_selection import RandomizedSearchCV\n",
    "from sklearn.metrics import accuracy_score, precision_score, recall_score, f1_score, roc_auc_score\n",
    "import mlflow\n",
    "\n",
    "def evaluate_model(model, X_test, y_test):\n",
    "    y_pred = model.predict(X_test)\n",
    "    y_proba = model.predict_proba(X_test)[:, 1]\n",
    "\n",
    "    return {\n",
    "        \"Accuracy\": accuracy_score(y_test, y_pred),\n",
    "        \"Precision\": precision_score(y_test, y_pred),\n",
    "        \"Recall\": recall_score(y_test, y_pred),\n",
    "        \"F1\": f1_score(y_test, y_pred),\n",
    "        \"ROC_AUC\": roc_auc_score(y_test, y_proba)\n",
    "    }\n",
    "\n",
    "# Logistic Regression\n",
    "lr = LogisticRegression(max_iter=5000)\n",
    "lr_params = {\n",
    "    \"C\": [0.01, 0.1, 1, 10],\n",
    "    \"solver\": [\"liblinear\", \"lbfgs\"]\n",
    "}\n",
    "lr_search = RandomizedSearchCV(lr, lr_params, n_iter=4, cv=3, scoring='roc_auc', random_state=42)\n",
    "lr_search.fit(X_train, y_train)\n",
    "lr_metrics = evaluate_model(lr_search.best_estimator_, X_test, y_test)\n",
    "print(\"🔎 Logistic Regression:\", lr_metrics)\n"
   ]
  },
  {
   "cell_type": "code",
   "execution_count": 4,
   "metadata": {},
   "outputs": [
    {
     "name": "stderr",
     "output_type": "stream",
     "text": [
      "2025/07/01 20:13:22 WARNING mlflow.models.model: `artifact_path` is deprecated. Please use `name` instead.\n",
      "2025/07/01 20:13:37 WARNING mlflow.models.model: Model logged without a signature and input example. Please set `input_example` parameter when logging the model to auto infer the model signature.\n"
     ]
    }
   ],
   "source": [
    "import mlflow.sklearn\n",
    "\n",
    "with mlflow.start_run(run_name=\"logistic_regression_model\"):\n",
    "    mlflow.log_params(lr_search.best_params_)\n",
    "    mlflow.log_metrics(lr_metrics)\n",
    "    mlflow.sklearn.log_model(lr_search.best_estimator_, \"model\")\n",
    "    \n"
   ]
  },
  {
   "cell_type": "code",
   "execution_count": 5,
   "metadata": {},
   "outputs": [
    {
     "name": "stderr",
     "output_type": "stream",
     "text": [
      "2025/07/01 20:15:59 WARNING mlflow.models.model: `artifact_path` is deprecated. Please use `name` instead.\n"
     ]
    },
    {
     "name": "stdout",
     "output_type": "stream",
     "text": [
      "🌲 Random Forest: {'Accuracy': 0.9963413996759526, 'Precision': 0.9819168173598554, 'Recall': 0.9863760217983651, 'F1': 0.9841413683733575, 'ROC_AUC': 0.9997649405765164}\n"
     ]
    },
    {
     "name": "stderr",
     "output_type": "stream",
     "text": [
      "2025/07/01 20:16:07 WARNING mlflow.models.model: Model logged without a signature and input example. Please set `input_example` parameter when logging the model to auto infer the model signature.\n"
     ]
    }
   ],
   "source": [
    "rf = RandomForestClassifier()\n",
    "rf_params = {\n",
    "    \"n_estimators\": [100, 200],\n",
    "    \"max_depth\": [5, 10, None],\n",
    "    \"min_samples_split\": [2, 5],\n",
    "    \"min_samples_leaf\": [1, 2]\n",
    "}\n",
    "rf_search = RandomizedSearchCV(rf, rf_params, n_iter=5, cv=3, scoring='roc_auc', random_state=42)\n",
    "rf_search.fit(X_train, y_train)\n",
    "rf_metrics = evaluate_model(rf_search.best_estimator_, X_test, y_test)\n",
    "print(\"🌲 Random Forest:\", rf_metrics)\n",
    "\n",
    "# Save\n",
    "with mlflow.start_run(run_name=\"random_forest_model\"):\n",
    "    mlflow.log_params(rf_search.best_params_)\n",
    "    mlflow.log_metrics(rf_metrics)\n",
    "    mlflow.sklearn.log_model(rf_search.best_estimator_, \"model\")\n"
   ]
  },
  {
   "cell_type": "code",
   "execution_count": 7,
   "metadata": {},
   "outputs": [
    {
     "data": {
      "text/plain": [
       "['../models/rf_model.pkl']"
      ]
     },
     "execution_count": 7,
     "metadata": {},
     "output_type": "execute_result"
    }
   ],
   "source": [
    "import joblib\n",
    "joblib.dump(lr_search.best_estimator_, \"../models/logistic_model.pkl\")\n",
    "joblib.dump(rf_search.best_estimator_, \"../models/rf_model.pkl\")  "
   ]
  },
  {
   "cell_type": "code",
   "execution_count": 8,
   "metadata": {},
   "outputs": [
    {
     "name": "stderr",
     "output_type": "stream",
     "text": [
      "2025/07/01 20:18:14 WARNING mlflow.models.model: `artifact_path` is deprecated. Please use `name` instead.\n"
     ]
    },
    {
     "name": "stdout",
     "output_type": "stream",
     "text": [
      "\n",
      "Model Performance Comparison:\n",
      "                     Accuracy  Precision    Recall        F1   ROC_AUC\n",
      "Logistic Regression  0.905399   0.704167  0.306994  0.427577  0.911310\n",
      "Random Forest        0.996341   0.981917  0.986376  0.984141  0.999765\n",
      "\n",
      "Best model: Random Forest\n"
     ]
    },
    {
     "name": "stderr",
     "output_type": "stream",
     "text": [
      "2025/07/01 20:18:24 WARNING mlflow.models.model: Model logged without a signature and input example. Please set `input_example` parameter when logging the model to auto infer the model signature.\n",
      "Registered model 'FraudDetectionModel' already exists. Creating a new version of this model...\n",
      "Created version '2' of model 'FraudDetectionModel'.\n"
     ]
    },
    {
     "name": "stdout",
     "output_type": "stream",
     "text": [
      "\n",
      "✅ Best model registered in MLflow Model Registry\n",
      "Best model saved locally at ../models/best_model.pkl\n"
     ]
    }
   ],
   "source": [
    "\n",
    "## Model Comparison and Registration\n",
    "# --------------------------------\n",
    "\n",
    "# Compare models and select the best one\n",
    "model_comparison = pd.DataFrame({\n",
    "    \"Logistic Regression\": lr_metrics,\n",
    "    \"Random Forest\": rf_metrics\n",
    "}).T\n",
    "\n",
    "print(\"\\nModel Performance Comparison:\")\n",
    "print(model_comparison)\n",
    "\n",
    "# Determine best model based on ROC AUC (you can change this to your preferred metric)\n",
    "best_model_name = model_comparison['ROC_AUC'].idxmax()\n",
    "best_model = lr_search.best_estimator_ if best_model_name == \"Logistic Regression\" else rf_search.best_estimator_\n",
    "\n",
    "print(f\"\\nBest model: {best_model_name}\")\n",
    "\n",
    "## Register Best Model in MLflow\n",
    "# ------------------------------\n",
    "\n",
    "# Start a new run for model registration\n",
    "with mlflow.start_run(run_name=\"best_model_registration\") as run:\n",
    "    # Log parameters and metrics\n",
    "    if best_model_name == \"Logistic Regression\":\n",
    "        mlflow.log_params(lr_search.best_params_)\n",
    "        mlflow.log_metrics(lr_metrics)\n",
    "    else:\n",
    "        mlflow.log_params(rf_search.best_params_)\n",
    "        mlflow.log_metrics(rf_metrics)\n",
    "    \n",
    "    # Log the model\n",
    "    mlflow.sklearn.log_model(\n",
    "        sk_model=best_model,\n",
    "        artifact_path=\"fraud_detection_model\",\n",
    "        registered_model_name=\"FraudDetectionModel\"\n",
    "    )\n",
    "    \n",
    "    # Add description\n",
    "    mlflow.set_tag(\"mlflow.note.content\",\n",
    "                  f\"Best performing {best_model_name} model for fraud detection\")\n",
    "\n",
    "print(\"\\n✅ Best model registered in MLflow Model Registry\")\n",
    "\n",
    "# Save best model locally\n",
    "joblib.dump(best_model, \"../models/best_model.pkl\")\n",
    "print(\"Best model saved locally at ../models/best_model.pkl\")"
   ]
  }
 ],
 "metadata": {
  "kernelspec": {
   "display_name": ".venv",
   "language": "python",
   "name": "python3"
  },
  "language_info": {
   "codemirror_mode": {
    "name": "ipython",
    "version": 3
   },
   "file_extension": ".py",
   "mimetype": "text/x-python",
   "name": "python",
   "nbconvert_exporter": "python",
   "pygments_lexer": "ipython3",
   "version": "3.13.3"
  }
 },
 "nbformat": 4,
 "nbformat_minor": 2
}
