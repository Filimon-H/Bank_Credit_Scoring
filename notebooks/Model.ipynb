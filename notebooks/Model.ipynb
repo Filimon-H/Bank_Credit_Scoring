{
 "cells": [
  {
   "cell_type": "code",
   "execution_count": 1,
   "metadata": {},
   "outputs": [],
   "source": [
    "import sys\n",
    "sys.path.append('../src')"
   ]
  },
  {
   "cell_type": "code",
   "execution_count": 8,
   "metadata": {},
   "outputs": [
    {
     "name": "stdout",
     "output_type": "stream",
     "text": [
      "Index(['TransactionId', 'BatchId', 'AccountId', 'SubscriptionId', 'CustomerId',\n",
      "       'CurrencyCode', 'ProductId', 'TransactionStartTime'],\n",
      "      dtype='object')\n"
     ]
    }
   ],
   "source": [
    "print(X_train.select_dtypes(include='object').columns)\n"
   ]
  },
  {
   "cell_type": "code",
   "execution_count": 3,
   "metadata": {},
   "outputs": [],
   "source": [
    "import pandas as pd\n",
    "from sklearn.model_selection import train_test_split\n",
    "\n",
    "# Load processed dataset\n",
    "df = pd.read_csv(\"../data/processed/X_transformed_named.csv\")\n",
    "\n",
    "# Drop unwanted ID/date columns\n",
    "drop_cols = ['TransactionId', 'BatchId', 'AccountId', 'SubscriptionId', 'CustomerId', 'CurrencyCode', 'ProductId', 'TransactionStartTime']\n",
    "df = df.drop(columns=[col for col in drop_cols if col in df.columns])\n",
    "\n",
    "# Target\n",
    "y = df.pop(\"is_high_risk\")\n",
    "X = df\n",
    "\n",
    "# Split\n",
    "X_train, X_test, y_train, y_test = train_test_split(X, y, test_size=0.2, random_state=42, stratify=y)\n"
   ]
  },
  {
   "cell_type": "code",
   "execution_count": 4,
   "metadata": {},
   "outputs": [
    {
     "name": "stdout",
     "output_type": "stream",
     "text": [
      "🔎 Logistic Regression: {'Accuracy': 0.9053990487639157, 'Precision': 0.7041666666666667, 'Recall': 0.3069936421435059, 'F1': 0.4275774826059456, 'ROC_AUC': 0.911310484918994}\n"
     ]
    }
   ],
   "source": [
    "from sklearn.linear_model import LogisticRegression\n",
    "from sklearn.ensemble import RandomForestClassifier\n",
    "from sklearn.model_selection import RandomizedSearchCV\n",
    "from sklearn.metrics import accuracy_score, precision_score, recall_score, f1_score, roc_auc_score\n",
    "import mlflow\n",
    "\n",
    "def evaluate_model(model, X_test, y_test):\n",
    "    y_pred = model.predict(X_test)\n",
    "    y_proba = model.predict_proba(X_test)[:, 1]\n",
    "\n",
    "    return {\n",
    "        \"Accuracy\": accuracy_score(y_test, y_pred),\n",
    "        \"Precision\": precision_score(y_test, y_pred),\n",
    "        \"Recall\": recall_score(y_test, y_pred),\n",
    "        \"F1\": f1_score(y_test, y_pred),\n",
    "        \"ROC_AUC\": roc_auc_score(y_test, y_proba)\n",
    "    }\n",
    "\n",
    "# Logistic Regression\n",
    "lr = LogisticRegression(max_iter=5000)\n",
    "lr_params = {\n",
    "    \"C\": [0.01, 0.1, 1, 10],\n",
    "    \"solver\": [\"liblinear\", \"lbfgs\"]\n",
    "}\n",
    "lr_search = RandomizedSearchCV(lr, lr_params, n_iter=4, cv=3, scoring='roc_auc', random_state=42)\n",
    "lr_search.fit(X_train, y_train)\n",
    "lr_metrics = evaluate_model(lr_search.best_estimator_, X_test, y_test)\n",
    "print(\"🔎 Logistic Regression:\", lr_metrics)\n"
   ]
  },
  {
   "cell_type": "code",
   "execution_count": 7,
   "metadata": {},
   "outputs": [
    {
     "name": "stderr",
     "output_type": "stream",
     "text": [
      "2025/06/30 23:38:51 WARNING mlflow.models.model: `artifact_path` is deprecated. Please use `name` instead.\n",
      "2025/06/30 23:39:22 WARNING mlflow.models.model: Model logged without a signature and input example. Please set `input_example` parameter when logging the model to auto infer the model signature.\n"
     ]
    }
   ],
   "source": [
    "import mlflow.sklearn\n",
    "\n",
    "with mlflow.start_run(run_name=\"logistic_regression_model\"):\n",
    "    mlflow.log_params(lr_search.best_params_)\n",
    "    mlflow.log_metrics(lr_metrics)\n",
    "    mlflow.sklearn.log_model(lr_search.best_estimator_, \"model\")\n",
    "    \n"
   ]
  },
  {
   "cell_type": "code",
   "execution_count": 8,
   "metadata": {},
   "outputs": [
    {
     "name": "stdout",
     "output_type": "stream",
     "text": [
      "🌲 Random Forest: {'Accuracy': 0.9959232739246329, 'Precision': 0.978809738503156, 'Recall': 0.9859218891916439, 'F1': 0.9823529411764705, 'ROC_AUC': 0.9997708013038549}\n"
     ]
    },
    {
     "name": "stderr",
     "output_type": "stream",
     "text": [
      "2025/06/30 23:43:25 WARNING mlflow.models.model: `artifact_path` is deprecated. Please use `name` instead.\n",
      "2025/06/30 23:43:38 WARNING mlflow.models.model: Model logged without a signature and input example. Please set `input_example` parameter when logging the model to auto infer the model signature.\n"
     ]
    }
   ],
   "source": [
    "rf = RandomForestClassifier()\n",
    "rf_params = {\n",
    "    \"n_estimators\": [100, 200],\n",
    "    \"max_depth\": [5, 10, None],\n",
    "    \"min_samples_split\": [2, 5],\n",
    "    \"min_samples_leaf\": [1, 2]\n",
    "}\n",
    "rf_search = RandomizedSearchCV(rf, rf_params, n_iter=5, cv=3, scoring='roc_auc', random_state=42)\n",
    "rf_search.fit(X_train, y_train)\n",
    "rf_metrics = evaluate_model(rf_search.best_estimator_, X_test, y_test)\n",
    "print(\"🌲 Random Forest:\", rf_metrics)\n",
    "\n",
    "# Save\n",
    "with mlflow.start_run(run_name=\"random_forest_model\"):\n",
    "    mlflow.log_params(rf_search.best_params_)\n",
    "    mlflow.log_metrics(rf_metrics)\n",
    "    mlflow.sklearn.log_model(rf_search.best_estimator_, \"model\")\n"
   ]
  },
  {
   "cell_type": "code",
   "execution_count": 10,
   "metadata": {},
   "outputs": [
    {
     "ename": "NameError",
     "evalue": "name 'gbm_model' is not defined",
     "output_type": "error",
     "traceback": [
      "\u001b[31m---------------------------------------------------------------------------\u001b[39m",
      "\u001b[31mNameError\u001b[39m                                 Traceback (most recent call last)",
      "\u001b[36mCell\u001b[39m\u001b[36m \u001b[39m\u001b[32mIn[10]\u001b[39m\u001b[32m, line 3\u001b[39m\n\u001b[32m      1\u001b[39m \u001b[38;5;28;01mimport\u001b[39;00m\u001b[38;5;250m \u001b[39m\u001b[34;01mjoblib\u001b[39;00m\n\u001b[32m      2\u001b[39m joblib.dump(lr_model, \u001b[33m\"\u001b[39m\u001b[33m../models/logistic_model.pkl\u001b[39m\u001b[33m\"\u001b[39m)\n\u001b[32m----> \u001b[39m\u001b[32m3\u001b[39m joblib.dump(\u001b[43mgbm_model\u001b[49m, \u001b[33m\"\u001b[39m\u001b[33m../models/gbm_model.pkl\u001b[39m\u001b[33m\"\u001b[39m)\n",
      "\u001b[31mNameError\u001b[39m: name 'gbm_model' is not defined"
     ]
    }
   ],
   "source": [
    "import joblib\n",
    "joblib.dump(lr_model, \"../models/logistic_model.pkl\")\n",
    "joblib.dump(gbm_model, \"../models/gbm_model.pkl\")\n"
   ]
  }
 ],
 "metadata": {
  "kernelspec": {
   "display_name": ".venv",
   "language": "python",
   "name": "python3"
  },
  "language_info": {
   "codemirror_mode": {
    "name": "ipython",
    "version": 3
   },
   "file_extension": ".py",
   "mimetype": "text/x-python",
   "name": "python",
   "nbconvert_exporter": "python",
   "pygments_lexer": "ipython3",
   "version": "3.13.3"
  }
 },
 "nbformat": 4,
 "nbformat_minor": 2
}
